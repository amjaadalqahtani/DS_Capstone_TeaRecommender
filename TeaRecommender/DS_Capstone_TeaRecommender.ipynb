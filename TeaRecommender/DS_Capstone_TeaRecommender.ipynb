{
 "cells": [
  {
   "cell_type": "markdown",
   "metadata": {},
   "source": [
    "title: \"Capstone Project: Tea Recommender System\"\n",
    "author: \"Amjad Alqahtani\"\n",
    "date: \"16/11/2021\"\n",
    "\n",
    "Recommender Systems are everywhere around us, from ads, to music apps, to search engines, they influence our decisions in implicit yet impactful ways. Building recommender systems can vary in difficulty based on complexity, but below is a simple example of a straight forward recommendation system using unique data gathered from online sources. The goal of the Tea Recommender is to generate tea recommendations for users based on their preferred tea. Unlike online examples of recommender systems that measure similarity based on description, here we will use the ingredients to find similarity between the teas."
   ]
  },
  {
   "cell_type": "code",
   "execution_count": 37,
   "metadata": {},
   "outputs": [],
   "source": [
    "# Import the necessary libraries for basic functions, NLP, RegEx,\n",
    "# calculating similarity, requests, and data visualization\n",
    "import pandas as pd\n",
    "import numpy as np\n",
    "pd.set_option('display.max_colwidth', 100)\n",
    "import nltk\n",
    "from nltk.corpus import stopwords\n",
    "from nltk.stem import PorterStemmer, WordNetLemmatizer\n",
    "from nltk.tag import DefaultTagger\n",
    "from nltk.corpus import treebank\n",
    "from nltk.tokenize import RegexpTokenizer\n",
    "from textblob import TextBlob\n",
    "import re\n",
    "import string\n",
    "import random\n",
    "from sklearn.metrics.pairwise import linear_kernel\n",
    "from sklearn.metrics.pairwise import cosine_similarity\n",
    "from sklearn.feature_extraction.text import CountVectorizer\n",
    "from sklearn.feature_extraction.text import TfidfVectorizer\n",
    "import requests\n",
    "import matplotlib.pyplot as plt\n",
    "%matplotlib inline"
   ]
  },
  {
   "cell_type": "code",
   "execution_count": 6,
   "metadata": {},
   "outputs": [],
   "source": [
    "# Nice, but not necessary, watch time when executing text processing tasks. *This is more useful for larger datasets with long computing times.\n",
    "from tqdm import tqdm\n",
    "tqdm.pandas()"
   ]
  },
  {
   "cell_type": "code",
   "execution_count": 7,
   "metadata": {},
   "outputs": [],
   "source": [
    "# Import dataset and set 'encoding = 'unicode_escape' to avoid UnicodeDecodeError\n",
    "df = pd.read_csv(\"C:/Users/Glow9/Documents/Misk-DSI-2021/Capstone/data-tidying/clean_megalist.csv\", encoding = 'unicode_escape')"
   ]
  },
  {
   "cell_type": "code",
   "execution_count": 8,
   "metadata": {},
   "outputs": [],
   "source": [
    "# Rename column make it one word to remove the dot\n",
    "df = df.rename(columns = {\"Health.Problem\": \"HealthP\"}, inplace = False)"
   ]
  },
  {
   "cell_type": "code",
   "execution_count": 9,
   "metadata": {},
   "outputs": [
    {
     "data": {
      "text/html": [
       "<div>\n",
       "<style scoped>\n",
       "    .dataframe tbody tr th:only-of-type {\n",
       "        vertical-align: middle;\n",
       "    }\n",
       "\n",
       "    .dataframe tbody tr th {\n",
       "        vertical-align: top;\n",
       "    }\n",
       "\n",
       "    .dataframe thead th {\n",
       "        text-align: right;\n",
       "    }\n",
       "</style>\n",
       "<table border=\"1\" class=\"dataframe\">\n",
       "  <thead>\n",
       "    <tr style=\"text-align: right;\">\n",
       "      <th></th>\n",
       "      <th>ID</th>\n",
       "      <th>Caffeine</th>\n",
       "      <th>Flavor</th>\n",
       "      <th>Description</th>\n",
       "      <th>Name</th>\n",
       "      <th>Origin</th>\n",
       "      <th>Time</th>\n",
       "      <th>Color</th>\n",
       "      <th>Ingredients</th>\n",
       "      <th>Price</th>\n",
       "      <th>Brand</th>\n",
       "      <th>HealthP</th>\n",
       "      <th>Type</th>\n",
       "      <th>urls</th>\n",
       "    </tr>\n",
       "  </thead>\n",
       "  <tbody>\n",
       "    <tr>\n",
       "      <th>0</th>\n",
       "      <td>14</td>\n",
       "      <td>no</td>\n",
       "      <td>mint and citrus</td>\n",
       "      <td>The cold solution you need Our comforting organic herbal tea features a throat calming base of p...</td>\n",
       "      <td>Organic Cold 911 Iconic Tin</td>\n",
       "      <td>Unknown</td>\n",
       "      <td>Anytime</td>\n",
       "      <td>light yellow</td>\n",
       "      <td>Organic peppermint, Organic apple, Organic eucalyptus, Organic juniper berries, Organic orange o...</td>\n",
       "      <td>12.0</td>\n",
       "      <td>davidstea</td>\n",
       "      <td>indigestion, constipation, IBS, motion sickness, migraines, headaches</td>\n",
       "      <td>Herbal Tea</td>\n",
       "      <td>https://davidstea.com/us_en/tea/shop-all/organic-cold-911-iconic-tin/961015US01VAR0056871.html?c...</td>\n",
       "    </tr>\n",
       "    <tr>\n",
       "      <th>1</th>\n",
       "      <td>16</td>\n",
       "      <td>yes</td>\n",
       "      <td>sweet and sour</td>\n",
       "      <td>What are we grateful for? Lets start with this purifying tea made with juicy pomegranates Not on...</td>\n",
       "      <td>Pomegrateful Iconic Tin</td>\n",
       "      <td>Unknown</td>\n",
       "      <td>Anytime</td>\n",
       "      <td>pink</td>\n",
       "      <td>Apple (apple, citric acid), Pineapple (pineapple, sugar), Hibiscus blossoms, White tea, Natural ...</td>\n",
       "      <td>20.0</td>\n",
       "      <td>davidstea</td>\n",
       "      <td>cancer prevention, kidney stones, high blood pressure</td>\n",
       "      <td>White Tea</td>\n",
       "      <td>https://davidstea.com/us_en/tea/shop-all/pomegrateful-iconic-tin/961028US01VAR0057010.html?cgid=...</td>\n",
       "    </tr>\n",
       "    <tr>\n",
       "      <th>2</th>\n",
       "      <td>19</td>\n",
       "      <td>yes</td>\n",
       "      <td>earthy mint and citrus</td>\n",
       "      <td>Wild mint meets notes of freshly squeezed lime in this strong yet refreshing flavoured Mojito Ma...</td>\n",
       "      <td>Mojito Matcha Iconic Tin</td>\n",
       "      <td>Unknown</td>\n",
       "      <td>day</td>\n",
       "      <td>green</td>\n",
       "      <td>Cane sugar, Matcha green tea, Natural Mojito flavouring.</td>\n",
       "      <td>25.0</td>\n",
       "      <td>davidstea</td>\n",
       "      <td>lack of focus, slow metabolism, inflammation, high blood pressure, high cholesterol, unclear skin</td>\n",
       "      <td>Matcha</td>\n",
       "      <td>https://davidstea.com/us_en/tea/shop-all/mojito-matcha-iconic-tin/961604US01.html?cgid=tea-colle...</td>\n",
       "    </tr>\n",
       "    <tr>\n",
       "      <th>3</th>\n",
       "      <td>20</td>\n",
       "      <td>yes</td>\n",
       "      <td>sweet and sour</td>\n",
       "      <td>What are we grateful for? Lets start with this purifying tea made with juicy pomegranates Not on...</td>\n",
       "      <td>Pomegrateful   Limited Edition printed tin</td>\n",
       "      <td>Unknown</td>\n",
       "      <td>anytime</td>\n",
       "      <td>pink</td>\n",
       "      <td>Apple (apple, citric acid), Pineapple (pineapple, sugar), Hibiscus blossoms, White tea, Natural ...</td>\n",
       "      <td>19.0</td>\n",
       "      <td>davidstea</td>\n",
       "      <td>cancer prevention, kidney stones, high blood pressure</td>\n",
       "      <td>White Tea</td>\n",
       "      <td>https://davidstea.com/us_en/tea/shop-all/pomegrateful-%E2%80%93-limited-edition-printed-tin/9613...</td>\n",
       "    </tr>\n",
       "    <tr>\n",
       "      <th>4</th>\n",
       "      <td>21</td>\n",
       "      <td>yes</td>\n",
       "      <td>earthy and sweet</td>\n",
       "      <td>This all natural blend of vanilla matcha green tea powder and sweet coconut nectar is the easies...</td>\n",
       "      <td>Vanilla Matcha Iconic Tin</td>\n",
       "      <td>Unknown</td>\n",
       "      <td>day</td>\n",
       "      <td>green</td>\n",
       "      <td>Coconut nectar, Matcha green tea, Natural vanilla flavouring.</td>\n",
       "      <td>25.0</td>\n",
       "      <td>davidstea</td>\n",
       "      <td>lack of focus, slow metabolism, inflammation, high blood pressure, high cholesterol, unclear skin</td>\n",
       "      <td>Matcha</td>\n",
       "      <td>https://davidstea.com/us_en/tea/shop-all/vanilla-matcha-iconic-tin/961168US01VAR0059317.html?cgi...</td>\n",
       "    </tr>\n",
       "  </tbody>\n",
       "</table>\n",
       "</div>"
      ],
      "text/plain": [
       "   ID Caffeine                  Flavor  \\\n",
       "0  14       no         mint and citrus   \n",
       "1  16      yes          sweet and sour   \n",
       "2  19      yes  earthy mint and citrus   \n",
       "3  20      yes          sweet and sour   \n",
       "4  21      yes        earthy and sweet   \n",
       "\n",
       "                                                                                           Description  \\\n",
       "0  The cold solution you need Our comforting organic herbal tea features a throat calming base of p...   \n",
       "1  What are we grateful for? Lets start with this purifying tea made with juicy pomegranates Not on...   \n",
       "2  Wild mint meets notes of freshly squeezed lime in this strong yet refreshing flavoured Mojito Ma...   \n",
       "3  What are we grateful for? Lets start with this purifying tea made with juicy pomegranates Not on...   \n",
       "4  This all natural blend of vanilla matcha green tea powder and sweet coconut nectar is the easies...   \n",
       "\n",
       "                                         Name   Origin     Time         Color  \\\n",
       "0                 Organic Cold 911 Iconic Tin  Unknown  Anytime  light yellow   \n",
       "1                     Pomegrateful Iconic Tin  Unknown  Anytime          pink   \n",
       "2                    Mojito Matcha Iconic Tin  Unknown      day         green   \n",
       "3  Pomegrateful   Limited Edition printed tin  Unknown  anytime          pink   \n",
       "4                   Vanilla Matcha Iconic Tin  Unknown      day         green   \n",
       "\n",
       "                                                                                           Ingredients  \\\n",
       "0  Organic peppermint, Organic apple, Organic eucalyptus, Organic juniper berries, Organic orange o...   \n",
       "1  Apple (apple, citric acid), Pineapple (pineapple, sugar), Hibiscus blossoms, White tea, Natural ...   \n",
       "2                                             Cane sugar, Matcha green tea, Natural Mojito flavouring.   \n",
       "3  Apple (apple, citric acid), Pineapple (pineapple, sugar), Hibiscus blossoms, White tea, Natural ...   \n",
       "4                                        Coconut nectar, Matcha green tea, Natural vanilla flavouring.   \n",
       "\n",
       "   Price      Brand  \\\n",
       "0   12.0  davidstea   \n",
       "1   20.0  davidstea   \n",
       "2   25.0  davidstea   \n",
       "3   19.0  davidstea   \n",
       "4   25.0  davidstea   \n",
       "\n",
       "                                                                                             HealthP  \\\n",
       "0                              indigestion, constipation, IBS, motion sickness, migraines, headaches   \n",
       "1                                              cancer prevention, kidney stones, high blood pressure   \n",
       "2  lack of focus, slow metabolism, inflammation, high blood pressure, high cholesterol, unclear skin   \n",
       "3                                              cancer prevention, kidney stones, high blood pressure   \n",
       "4  lack of focus, slow metabolism, inflammation, high blood pressure, high cholesterol, unclear skin   \n",
       "\n",
       "         Type  \\\n",
       "0  Herbal Tea   \n",
       "1   White Tea   \n",
       "2      Matcha   \n",
       "3   White Tea   \n",
       "4      Matcha   \n",
       "\n",
       "                                                                                                  urls  \n",
       "0  https://davidstea.com/us_en/tea/shop-all/organic-cold-911-iconic-tin/961015US01VAR0056871.html?c...  \n",
       "1  https://davidstea.com/us_en/tea/shop-all/pomegrateful-iconic-tin/961028US01VAR0057010.html?cgid=...  \n",
       "2  https://davidstea.com/us_en/tea/shop-all/mojito-matcha-iconic-tin/961604US01.html?cgid=tea-colle...  \n",
       "3  https://davidstea.com/us_en/tea/shop-all/pomegrateful-%E2%80%93-limited-edition-printed-tin/9613...  \n",
       "4  https://davidstea.com/us_en/tea/shop-all/vanilla-matcha-iconic-tin/961168US01VAR0059317.html?cgi...  "
      ]
     },
     "execution_count": 9,
     "metadata": {},
     "output_type": "execute_result"
    }
   ],
   "source": [
    "# View head and make sure the type is a Pandas DataFrame\n",
    "df.head()"
   ]
  },
  {
   "cell_type": "code",
   "execution_count": 10,
   "metadata": {},
   "outputs": [
    {
     "data": {
      "text/plain": [
       "pandas.core.frame.DataFrame"
      ]
     },
     "execution_count": 10,
     "metadata": {},
     "output_type": "execute_result"
    }
   ],
   "source": [
    "# Type is pd Df\n",
    "type(df)"
   ]
  },
  {
   "cell_type": "code",
   "execution_count": 11,
   "metadata": {},
   "outputs": [
    {
     "data": {
      "text/plain": [
       "(850, 14)"
      ]
     },
     "execution_count": 11,
     "metadata": {},
     "output_type": "execute_result"
    }
   ],
   "source": [
    "# for # rows and columns\n",
    "df.shape"
   ]
  },
  {
   "cell_type": "code",
   "execution_count": 12,
   "metadata": {},
   "outputs": [
    {
     "data": {
      "text/html": [
       "<div>\n",
       "<style scoped>\n",
       "    .dataframe tbody tr th:only-of-type {\n",
       "        vertical-align: middle;\n",
       "    }\n",
       "\n",
       "    .dataframe tbody tr th {\n",
       "        vertical-align: top;\n",
       "    }\n",
       "\n",
       "    .dataframe thead th {\n",
       "        text-align: right;\n",
       "    }\n",
       "</style>\n",
       "<table border=\"1\" class=\"dataframe\">\n",
       "  <thead>\n",
       "    <tr style=\"text-align: right;\">\n",
       "      <th></th>\n",
       "      <th>ID</th>\n",
       "      <th>Caffeine</th>\n",
       "      <th>Flavor</th>\n",
       "      <th>Description</th>\n",
       "      <th>Name</th>\n",
       "      <th>Origin</th>\n",
       "      <th>Time</th>\n",
       "      <th>Color</th>\n",
       "      <th>Ingredients</th>\n",
       "      <th>Price</th>\n",
       "      <th>Brand</th>\n",
       "      <th>HealthP</th>\n",
       "      <th>Type</th>\n",
       "      <th>urls</th>\n",
       "    </tr>\n",
       "  </thead>\n",
       "  <tbody>\n",
       "    <tr>\n",
       "      <th>634</th>\n",
       "      <td>832</td>\n",
       "      <td>yes</td>\n",
       "      <td>Refreshing with the alluring  aromas of bergamot oranges,  citrus blossoms and lilacs</td>\n",
       "      <td>Earl Green is our oolong version of the black tea classic Earl Grey This original blend highligh...</td>\n",
       "      <td>Earl Green</td>\n",
       "      <td>Rishi Herb Lab</td>\n",
       "      <td>day</td>\n",
       "      <td>golden</td>\n",
       "      <td>Oolong tea, essential bergamot oil</td>\n",
       "      <td>59.0</td>\n",
       "      <td>rishi-tea</td>\n",
       "      <td>cancer prevention, anxiety, low alertness, inflammation, type 2 diabetes</td>\n",
       "      <td>Oolong Tea</td>\n",
       "      <td>https://rishi-tea.com/oolong-tea-organic-loose-leaf/earl-green?returnurl=%2foolong-tea-organic-l...</td>\n",
       "    </tr>\n",
       "    <tr>\n",
       "      <th>457</th>\n",
       "      <td>651</td>\n",
       "      <td>yes</td>\n",
       "      <td>Exotic tulsi and cardamom create mystical high notes that perfectly complement grounding black t...</td>\n",
       "      <td>Tulsi also known as the Queen of Herbs is renowned for its calming effectoffering cognitive and ...</td>\n",
       "      <td>Tulsi Chai</td>\n",
       "      <td>Rishi Herb Lab</td>\n",
       "      <td>day</td>\n",
       "      <td>black</td>\n",
       "      <td>Organic black tea, organic cinnamon, organic sarsaparilla root, organic cardamom, organic tulsi,...</td>\n",
       "      <td>36.0</td>\n",
       "      <td>rishi-tea</td>\n",
       "      <td>inflammation, high blood sugar, heart problems, cancer prevention, mild problems with cognition,...</td>\n",
       "      <td>black tea</td>\n",
       "      <td>https://rishi-tea.com/chai-tea-concentrates-organic/tulsi-chai?returnurl=%2fblack-tea-organic-lo...</td>\n",
       "    </tr>\n",
       "    <tr>\n",
       "      <th>652</th>\n",
       "      <td>850</td>\n",
       "      <td>yes</td>\n",
       "      <td>Traditional style Pu'er with  a robust, soothing flavor and  sweet notes of dark mocha</td>\n",
       "      <td>This traditional style of shu Puer offers an impressively robust infusion that is credited to ou...</td>\n",
       "      <td>Pu'er Tuo Cha</td>\n",
       "      <td>China</td>\n",
       "      <td>day</td>\n",
       "      <td>brown</td>\n",
       "      <td>Organic Pu'erh tea</td>\n",
       "      <td>52.5</td>\n",
       "      <td>rishi-tea</td>\n",
       "      <td>cancer prevention, weight gain, high cholesterol</td>\n",
       "      <td>puerh tea</td>\n",
       "      <td>https://rishi-tea.com/puer-tea-organic-loose-leaf/ancient-puer-tuo-cha?returnurl=%2fpuer-tea-org...</td>\n",
       "    </tr>\n",
       "    <tr>\n",
       "      <th>359</th>\n",
       "      <td>524</td>\n",
       "      <td>yes</td>\n",
       "      <td>citrus floral</td>\n",
       "      <td>Our highly sophisticated Earl Grey is like no other Its made with an exceptional mix of high al...</td>\n",
       "      <td>Earl Grey Royale</td>\n",
       "      <td>Sri Lanka</td>\n",
       "      <td>day</td>\n",
       "      <td>black</td>\n",
       "      <td>Sri Lankan black tea, Lemon &amp; Orange peel, Red cornflower &amp; Bergamot</td>\n",
       "      <td>5.6</td>\n",
       "      <td>machiitea</td>\n",
       "      <td>inflammation, low immune function, minor skin cuts, bruises</td>\n",
       "      <td>black tea</td>\n",
       "      <td>https://machiitea.com/collections/tea/products/earl-grey-royale</td>\n",
       "    </tr>\n",
       "    <tr>\n",
       "      <th>599</th>\n",
       "      <td>797</td>\n",
       "      <td>yes</td>\n",
       "      <td>roasted barley, toasted almonds, herbaceous spice, warming ginger and uplifting mint</td>\n",
       "      <td>Houjicha Shiso is a warming Japanese green tea perfect for the transition into colder months A h...</td>\n",
       "      <td>Houjicha Shiso</td>\n",
       "      <td>Japan</td>\n",
       "      <td>day</td>\n",
       "      <td>green</td>\n",
       "      <td>organic green tea, organic red shiso, bamboo ginger, organic peppermint</td>\n",
       "      <td>28.0</td>\n",
       "      <td>rishi-tea</td>\n",
       "      <td>inflammation, menstrual pain, diabetes, indigestion, morning sickness, joint pain, nausea, low i...</td>\n",
       "      <td>green tea</td>\n",
       "      <td>https://rishi-tea.com/herb-lab-limited-release-botanical-blends/houjicha-shiso?returnurl=%2forga...</td>\n",
       "    </tr>\n",
       "  </tbody>\n",
       "</table>\n",
       "</div>"
      ],
      "text/plain": [
       "      ID Caffeine  \\\n",
       "634  832      yes   \n",
       "457  651      yes   \n",
       "652  850      yes   \n",
       "359  524      yes   \n",
       "599  797      yes   \n",
       "\n",
       "                                                                                                  Flavor  \\\n",
       "634                Refreshing with the alluring  aromas of bergamot oranges,  citrus blossoms and lilacs   \n",
       "457  Exotic tulsi and cardamom create mystical high notes that perfectly complement grounding black t...   \n",
       "652               Traditional style Pu'er with  a robust, soothing flavor and  sweet notes of dark mocha   \n",
       "359                                                                                        citrus floral   \n",
       "599                 roasted barley, toasted almonds, herbaceous spice, warming ginger and uplifting mint   \n",
       "\n",
       "                                                                                             Description  \\\n",
       "634  Earl Green is our oolong version of the black tea classic Earl Grey This original blend highligh...   \n",
       "457  Tulsi also known as the Queen of Herbs is renowned for its calming effectoffering cognitive and ...   \n",
       "652  This traditional style of shu Puer offers an impressively robust infusion that is credited to ou...   \n",
       "359   Our highly sophisticated Earl Grey is like no other Its made with an exceptional mix of high al...   \n",
       "599  Houjicha Shiso is a warming Japanese green tea perfect for the transition into colder months A h...   \n",
       "\n",
       "                 Name          Origin Time   Color  \\\n",
       "634        Earl Green  Rishi Herb Lab  day  golden   \n",
       "457        Tulsi Chai  Rishi Herb Lab  day   black   \n",
       "652     Pu'er Tuo Cha           China  day   brown   \n",
       "359  Earl Grey Royale       Sri Lanka  day   black   \n",
       "599    Houjicha Shiso           Japan  day   green   \n",
       "\n",
       "                                                                                             Ingredients  \\\n",
       "634                                                                   Oolong tea, essential bergamot oil   \n",
       "457  Organic black tea, organic cinnamon, organic sarsaparilla root, organic cardamom, organic tulsi,...   \n",
       "652                                                                                   Organic Pu'erh tea   \n",
       "359                                 Sri Lankan black tea, Lemon & Orange peel, Red cornflower & Bergamot   \n",
       "599                              organic green tea, organic red shiso, bamboo ginger, organic peppermint   \n",
       "\n",
       "     Price      Brand  \\\n",
       "634   59.0  rishi-tea   \n",
       "457   36.0  rishi-tea   \n",
       "652   52.5  rishi-tea   \n",
       "359    5.6  machiitea   \n",
       "599   28.0  rishi-tea   \n",
       "\n",
       "                                                                                                 HealthP  \\\n",
       "634                             cancer prevention, anxiety, low alertness, inflammation, type 2 diabetes   \n",
       "457  inflammation, high blood sugar, heart problems, cancer prevention, mild problems with cognition,...   \n",
       "652                                                     cancer prevention, weight gain, high cholesterol   \n",
       "359                                          inflammation, low immune function, minor skin cuts, bruises   \n",
       "599  inflammation, menstrual pain, diabetes, indigestion, morning sickness, joint pain, nausea, low i...   \n",
       "\n",
       "           Type  \\\n",
       "634  Oolong Tea   \n",
       "457   black tea   \n",
       "652   puerh tea   \n",
       "359   black tea   \n",
       "599   green tea   \n",
       "\n",
       "                                                                                                    urls  \n",
       "634  https://rishi-tea.com/oolong-tea-organic-loose-leaf/earl-green?returnurl=%2foolong-tea-organic-l...  \n",
       "457  https://rishi-tea.com/chai-tea-concentrates-organic/tulsi-chai?returnurl=%2fblack-tea-organic-lo...  \n",
       "652  https://rishi-tea.com/puer-tea-organic-loose-leaf/ancient-puer-tuo-cha?returnurl=%2fpuer-tea-org...  \n",
       "359                                     https://machiitea.com/collections/tea/products/earl-grey-royale   \n",
       "599  https://rishi-tea.com/herb-lab-limited-release-botanical-blends/houjicha-shiso?returnurl=%2forga...  "
      ]
     },
     "execution_count": 12,
     "metadata": {},
     "output_type": "execute_result"
    }
   ],
   "source": [
    "# view random row to ensure data quality and reproducibility \n",
    "df.sample(5, random_state=33)"
   ]
  },
  {
   "cell_type": "code",
   "execution_count": 19,
   "metadata": {},
   "outputs": [
    {
     "name": "stdout",
     "output_type": "stream",
     "text": [
      "ID\n",
      "Caffeine\n",
      "Flavor\n",
      "Description\n",
      "Name\n",
      "Origin\n",
      "Time\n",
      "Color\n",
      "Ingredients\n",
      "Price\n",
      "Brand\n",
      "HealthP\n",
      "Type\n",
      "urls\n"
     ]
    }
   ],
   "source": [
    "# to see the categories we can use, we print the names of columns\n",
    "for col in df.columns:\n",
    "    print(col)"
   ]
  },
  {
   "cell_type": "code",
   "execution_count": 15,
   "metadata": {},
   "outputs": [
    {
     "data": {
      "text/plain": [
       "'Black Tea'"
      ]
     },
     "execution_count": 15,
     "metadata": {},
     "output_type": "execute_result"
    }
   ],
   "source": [
    "# To see the structure of the strings we're working with\n",
    "# Select random numbers of each column to print the string\n",
    "f_text = df[\"Flavor\"][833]\n",
    "f_text\n",
    "d_text = df[\"Description\"][677]\n",
    "d_text\n",
    "n_text = df[\"Ingredients\"][677]\n",
    "n_text\n",
    "o_text = df[\"Origin\"][500]\n",
    "o_text\n",
    "c_text = df[\"Color\"][297]\n",
    "c_text\n",
    "n_text = df[\"Ingredients\"][347]\n",
    "n_text\n",
    "h_text = df[\"Ingredients\"][677]\n",
    "h_text\n",
    "t_text = df[\"Type\"][20]\n",
    "t_text"
   ]
  },
  {
   "cell_type": "code",
   "execution_count": 16,
   "metadata": {},
   "outputs": [],
   "source": [
    "# More string editing to improve visualization (some strings are\n",
    "# capitalized and would be plotted as a seperate category from\n",
    "# the lowercase strings in one column)\n",
    "df['Time'] = df['Time'].str.lower()\n",
    "df['Flavor'] = df['Flavor'].str.lower()\n",
    "df['Ingredients'] = df['Ingredients'].str.lower()\n",
    "df['Color'] = df['Color'].str.lower()\n",
    "df['Description'] = df['Description'].str.lower()\n",
    "df['Type'] = df['Type'].str.lower()\n",
    "df['Ingredients'] = df['HealthP'].str.lower()"
   ]
  },
  {
   "cell_type": "code",
   "execution_count": 17,
   "metadata": {},
   "outputs": [
    {
     "data": {
      "text/plain": [
       "<AxesSubplot:title={'center':'Teas Distribution by Type (n= 850)'}>"
      ]
     },
     "execution_count": 17,
     "metadata": {},
     "output_type": "execute_result"
    },
    {
     "data": {
      "image/png": "[encoded data removed]",
      "text/plain": [
       "<Figure size 720x360 with 1 Axes>"
      ]
     },
     "metadata": {
      "needs_background": "light"
     },
     "output_type": "display_data"
    }
   ],
   "source": [
    "# Data Visualization\n",
    "# Tea types and times best to drink distribution:\n",
    "# Types, we can see that herbal and black tea are tied at the top\n",
    "df['Type'].value_counts().plot(x = 'Type', y ='count', kind = 'bar', figsize = (10,5), title = 'Teas Distribution by Type (n= 850)')"
   ]
  },
  {
   "cell_type": "code",
   "execution_count": 18,
   "metadata": {},
   "outputs": [
    {
     "data": {
      "text/plain": [
       "<AxesSubplot:title={'center':'Teas Distribution by Drinking Time (n= 850)'}>"
      ]
     },
     "execution_count": 18,
     "metadata": {},
     "output_type": "execute_result"
    },
    {
     "data": {
      "image/png": "[encoded data removed]",
      "text/plain": [
       "<Figure size 720x360 with 1 Axes>"
      ]
     },
     "metadata": {
      "needs_background": "light"
     },
     "output_type": "display_data"
    }
   ],
   "source": [
    "# Time, more teas are best to drink in the AM, which follows that the dataset \n",
    "# has a larger propotion of black, green and other caffeinated teas. Herbal \n",
    "# teas can be consumed anytime and are recommended in the evening\n",
    "df['Time'].value_counts().plot(x = 'Time', y ='count', kind = 'bar', figsize = (10,5), title = 'Teas Distribution by Drinking Time (n= 850)')"
   ]
  },
  {
   "cell_type": "code",
   "execution_count": 30,
   "metadata": {},
   "outputs": [
    {
     "data": {
      "text/plain": [
       "<AxesSubplot:title={'center':'Word Count Distribution for tea ingredients'}, ylabel='Frequency'>"
      ]
     },
     "execution_count": 30,
     "metadata": {},
     "output_type": "execute_result"
    },
    {
     "data": {
      "image/png": "[encoded data removed]",
      "text/plain": [
       "<Figure size 864x576 with 1 Axes>"
      ]
     },
     "metadata": {
      "needs_background": "light"
     },
     "output_type": "display_data"
    }
   ],
   "source": [
    "# We can look at the Word Count to gain more insight into the number\n",
    "# of ingredients used to make commercial tea, \n",
    "# First, we'll look at the Ingredients word count.\n",
    "df['word_count'] = df['Ingredients'].apply(lambda x: len(str(x).split()))\n",
    "df['word_count'].plot(\n",
    "    kind='hist',\n",
    "    bins = 50,\n",
    "    figsize = (12,8),title='Tea Ingredients Word Count Distribution')\n",
    "# The right skew indicates that more teas have more than 1 or 2 ingredients."
   ]
  },
  {
   "cell_type": "code",
   "execution_count": 19,
   "metadata": {},
   "outputs": [
    {
     "data": {
      "text/plain": [
       "<AxesSubplot:title={'center':'Word Count Distribution for tea descriptions'}, ylabel='Frequency'>"
      ]
     },
     "execution_count": 19,
     "metadata": {},
     "output_type": "execute_result"
    },
    {
     "data": {
      "image/png": "[encoded data removed]",
      "text/plain": [
       "<Figure size 864x576 with 1 Axes>"
      ]
     },
     "metadata": {
      "needs_background": "light"
     },
     "output_type": "display_data"
    }
   ],
   "source": [
    "# For the Description we see that most have 50 to 100 words\n",
    "df['word_count'] = df['Description'].apply(lambda x: len(str(x).split()))# Plotting the word count\n",
    "df['word_count'].plot(\n",
    "    kind='hist',\n",
    "    bins = 50,\n",
    "    figsize = (12,8),title='Word Count Distribution for tea descriptions')"
   ]
  },
  {
   "cell_type": "code",
   "execution_count": 42,
   "metadata": {},
   "outputs": [
    {
     "data": {
      "text/plain": [
       "<AxesSubplot:title={'center':'Top 10 Part-of-speech tags in Ingredients'}, ylabel='pos'>"
      ]
     },
     "execution_count": 42,
     "metadata": {},
     "output_type": "execute_result"
    },
    {
     "data": {
      "image/png": "[encoded data removed]",
      "text/plain": [
       "<Figure size 576x432 with 1 Axes>"
      ]
     },
     "metadata": {},
     "output_type": "display_data"
    }
   ],
   "source": [
    "# We can find the lexicon makeup of the longest strings, \n",
    "# Description and Ingredients\n",
    "# Ingredients\n",
    "from textblob import TextBlob\n",
    "blob = TextBlob(str(df['Ingredients']))\n",
    "pos_df = pd.DataFrame(blob.tags, columns = ['word' , 'pos'])\n",
    "pos_df = pos_df.pos.value_counts()[:10]\n",
    "pos_df.plot(kind = 'pie', figsize=(8, 6), title = \"Top 10 Part-of-speech tags in Ingredients\")\n",
    "# for both, most are nouns, HealthPs, which is not surprising"
   ]
  },
  {
   "cell_type": "code",
   "execution_count": 46,
   "metadata": {},
   "outputs": [
    {
     "data": {
      "text/plain": [
       "<AxesSubplot:title={'center':'Top 10 Part-of-speech tags in Descriptions'}, ylabel='pos'>"
      ]
     },
     "execution_count": 46,
     "metadata": {},
     "output_type": "execute_result"
    },
    {
     "data": {
      "image/png": "[encoded data removed]",
      "text/plain": [
       "<Figure size 576x432 with 1 Axes>"
      ]
     },
     "metadata": {},
     "output_type": "display_data"
    }
   ],
   "source": [
    "from textblob import TextBlob\n",
    "blob = TextBlob(str(df['Description']))\n",
    "pos_df = pd.DataFrame(blob.tags, columns = ['word' , 'pos'])\n",
    "pos_df = pos_df.pos.value_counts()[:10]\n",
    "pos_df.plot(kind = 'pie', figsize=(8, 6), title = \"Top 10 Part-of-speech tags in Descriptions\")\n",
    "# for both, most are nouns, names, which is not surprising"
   ]
  },
  {
   "cell_type": "code",
   "execution_count": 65,
   "metadata": {},
   "outputs": [],
   "source": [
    "# Preparing text:\n",
    "# Function for removing NonAscii characters\n",
    "def _removeNonAscii(s):\n",
    "    return \"\".join(i for i in s if  ord(i)<128)\n",
    "\n",
    "# Function for converting into lower case\n",
    "def make_lower_case(text):\n",
    "    return text.lower()\n",
    "\n",
    "# Function for removing stop words\n",
    "def remove_stop_words(text):\n",
    "    text = text.split()\n",
    "    stops = set(stopwords.words(\"english\"))\n",
    "    text = [w for w in text if not w in stops]\n",
    "    text = \" \".join(text)\n",
    "    return text\n",
    "\n",
    "# Function for removing punctuation\n",
    "def remove_punctuation(text):\n",
    "    tokenizer = RegexpTokenizer(r'\\w+')\n",
    "    text = tokenizer.tokenize(text)\n",
    "    text = \" \".join(text)\n",
    "    return text\n",
    "\n",
    "# Applying all the functions in health problems and storing as a \"Ingredients\"\n",
    "df[\"Ingredients\"] = df[\"Ingredients\"].apply(_removeNonAscii)\n",
    "df[\"Ingredients\"] = df.Ingredients.apply(func = make_lower_case)\n",
    "df[\"Ingredients\"] = df.Ingredients.apply(func = remove_stop_words)\n",
    "df[\"Ingredients\"] = df.Ingredients.apply(func=remove_punctuation)"
   ]
  },
  {
   "cell_type": "code",
   "execution_count": 67,
   "metadata": {},
   "outputs": [
    {
     "data": {
      "text/plain": [
       "0    organic peppermint organic apple organic eucalyptus organic juniper berries organic orange oil n...\n",
       "1    apple apple citric acid pineapple pineapple sugar hibiscus blossoms white tea natural pomegranat...\n",
       "2                                                  cane sugar matcha green tea natural mojito flavouring\n",
       "3    apple apple citric acid pineapple pineapple sugar hibiscus blossoms white tea natural pomegranat...\n",
       "4                                             coconut nectar matcha green tea natural vanilla flavouring\n",
       "Name: Ingredients, dtype: object"
      ]
     },
     "execution_count": 67,
     "metadata": {},
     "output_type": "execute_result"
    }
   ],
   "source": [
    "#Print ingredients of the first 5 teas.\n",
    "df['Ingredients'].head()"
   ]
  },
  {
   "cell_type": "code",
   "execution_count": 69,
   "metadata": {},
   "outputs": [
    {
     "data": {
      "text/plain": [
       "(850, 698)"
      ]
     },
     "execution_count": 69,
     "metadata": {},
     "output_type": "execute_result"
    }
   ],
   "source": [
    "#Define a TF-IDF Vectorizer Object. Remove all english stop words such as 'the', 'a'\n",
    "tfidf = TfidfVectorizer(stop_words='english')\n",
    "\n",
    "#Replace NAs with an empty string\n",
    "df['Ingredients'] = df['Ingredients'].fillna('')\n",
    "\n",
    "#Construct the required TF-IDF matrix by fitting and transforming the data\n",
    "tfidf_matrix = tfidf.fit_transform(df['Ingredients'])\n",
    "\n",
    "#Output the shape of tfidf_matrix\n",
    "tfidf_matrix.shape"
   ]
  },
  {
   "cell_type": "code",
   "execution_count": 74,
   "metadata": {},
   "outputs": [
    {
     "data": {
      "text/plain": [
       "array(['brown', 'buckthorn', 'buckwheat', 'bud', 'buds', 'burdock',\n",
       "       'butter', 'butterfat', 'butterfly', 'butternut'], dtype=object)"
      ]
     },
     "execution_count": 74,
     "metadata": {},
     "output_type": "execute_result"
    }
   ],
   "source": [
    "# From the above shape, we see that there are 698 words in the dataset\n",
    "# Array mapping from feature integer indices to feature name.\n",
    "tfidf.get_feature_names_out()[94:104]"
   ]
  },
  {
   "cell_type": "code",
   "execution_count": 75,
   "metadata": {},
   "outputs": [],
   "source": [
    "# Compute the cosine similarity matrix\n",
    "cosine_sim = linear_kernel(tfidf_matrix, tfidf_matrix)"
   ]
  },
  {
   "cell_type": "code",
   "execution_count": 76,
   "metadata": {},
   "outputs": [
    {
     "data": {
      "text/plain": [
       "(850, 850)"
      ]
     },
     "execution_count": 76,
     "metadata": {},
     "output_type": "execute_result"
    }
   ],
   "source": [
    "cosine_sim.shape"
   ]
  },
  {
   "cell_type": "code",
   "execution_count": 77,
   "metadata": {},
   "outputs": [
    {
     "data": {
      "text/plain": [
       "array([0.08248236, 1.        , 0.10591485, 1.        , 0.06166356,\n",
       "       0.00832702, 0.00938353, 0.28966118, 0.0519636 , 0.10216862,\n",
       "       0.29194041, 0.04092541, 0.07401869, 0.14779375, 0.11840456,\n",
       "       0.07034754, 0.12943976, 0.42606256, 0.07697914, 0.14210645,\n",
       "       0.32130633, 0.00529989, 0.1514569 , 0.04655843, 0.43658254,\n",
       "       0.15465143, 0.38112656, 0.14135611, 0.29188068, 0.04124007,\n",
       "       0.11843933, 0.08248236, 0.29194041, 0.012743  , 0.13024933,\n",
       "       0.08213054, 0.05296262, 0.06482436, 0.07890487, 0.08213054,\n",
       "       0.00572636, 0.11033669, 0.00881984, 0.07890487, 0.32620415,\n",
       "       0.10092382, 0.13024933, 0.25421521, 0.08878589, 0.27355967,\n",
       "       0.10216862, 0.37718569, 0.00763253, 0.08854987, 0.11604635,\n",
       "       0.01965165, 0.31574322, 0.08892837, 0.057433  , 0.08828914,\n",
       "       0.13672503, 0.012743  , 0.11840456, 0.21466058, 0.0519636 ,\n",
       "       0.08954275, 0.11473097, 0.08878589, 0.13024933, 0.12943976,\n",
       "       0.37588348, 0.04124007, 0.15465143, 0.012743  , 0.4237813 ,\n",
       "       0.18976469, 0.06364637, 0.05296262, 0.38112656, 0.0950946 ,\n",
       "       0.32130633, 0.07034754, 0.13672503, 0.04092541, 0.15465143,\n",
       "       0.00938353, 0.07376012, 0.03381203, 0.06206022, 0.04738782,\n",
       "       0.057433  , 0.08858913, 0.07580054, 0.16269571, 0.01331362,\n",
       "       0.20770603, 0.08878589, 0.06198546, 0.22267395, 0.00957758,\n",
       "       0.17356188, 0.20938815, 0.1742747 , 0.06406806, 0.08968372,\n",
       "       0.1763721 , 0.40130333, 0.37090138, 0.00732104, 0.00529989,\n",
       "       0.31574322, 0.31574322, 0.21466058, 0.00920307, 0.01873208,\n",
       "       0.00763253, 0.37588348, 0.00832702, 0.1771288 , 0.00529989,\n",
       "       0.01021025, 0.16136652, 0.49339205, 0.06280441, 0.30783006,\n",
       "       0.14210645, 0.09671644, 0.24188956, 0.28597643, 0.32527731,\n",
       "       0.12189752, 0.02561659, 0.2214278 , 0.06529392, 0.29601688,\n",
       "       0.21211859, 0.1000122 , 0.35474279, 0.42606256, 0.37718569,\n",
       "       0.12019448, 0.46182251, 0.11604635, 0.05290235, 0.14135611,\n",
       "       0.10591485, 0.14779375, 0.10727563, 0.16495124, 0.08705751,\n",
       "       0.11033669, 0.06166356, 0.06482436, 0.01238182, 0.11252955,\n",
       "       0.012743  , 0.11473097, 0.07890487, 0.012743  , 0.07494658,\n",
       "       0.0910111 , 0.012743  , 0.11843933, 0.05705141, 0.11604635,\n",
       "       0.05290235, 0.14135611, 0.10591485, 0.14779375, 0.10727563,\n",
       "       0.16495124, 0.08705751, 0.11033669, 0.06166356, 0.06482436,\n",
       "       0.01238182, 0.11252955, 0.012743  , 0.11473097, 0.07890487,\n",
       "       0.012743  , 0.07494658, 0.0910111 , 0.012743  , 0.11843933,\n",
       "       0.05705141, 0.15496745, 0.14668519, 0.29188068, 0.29188068,\n",
       "       0.08213054, 0.2390767 , 0.01312788, 0.23266911, 0.18851936,\n",
       "       0.37384968, 0.5354833 , 0.04124007, 0.5354833 , 0.05061761,\n",
       "       0.0072346 , 0.04124007, 0.0340323 , 0.04124007, 0.2191602 ,\n",
       "       0.04124007, 0.2390767 , 0.07765161, 0.2191602 , 0.11338205,\n",
       "       0.08213054, 0.08213054, 0.07483044, 0.09497752, 0.07483044,\n",
       "       0.03573413, 0.08213054, 0.1514569 , 0.03114575, 0.1514569 ,\n",
       "       0.08110954, 0.28612986, 0.13024933, 0.08435416, 0.18958946,\n",
       "       0.08110954, 0.28745853, 0.40024471, 0.14749242, 0.09852699,\n",
       "       0.13007213, 0.12943976, 0.13024933, 0.02611231, 0.23087519,\n",
       "       0.11755515, 0.0932962 , 0.39808685, 0.12943976, 0.19872575,\n",
       "       0.        , 0.        , 0.11840456, 0.05207635, 0.28966118,\n",
       "       0.95269821, 0.4237813 , 0.25421521, 0.25421521, 0.08423292,\n",
       "       0.39850645, 0.95269821, 0.28966118, 0.39850645, 0.25421521,\n",
       "       0.15629432, 0.04655843, 0.27355967, 0.95269821, 0.27355967,\n",
       "       0.07674184, 0.01440898, 0.06948029, 0.09708745, 0.01382581,\n",
       "       0.07309511, 0.08627276, 0.30377816, 0.23595333, 0.00536616,\n",
       "       0.01419528, 0.0095772 , 0.00922096, 0.02271526, 0.01826186,\n",
       "       0.138717  , 0.1762098 , 0.01298945, 0.07502395, 0.08768698,\n",
       "       0.        , 0.01409376, 0.07228836, 0.08838471, 0.06339418,\n",
       "       0.        , 0.        , 0.05494217, 0.        , 0.        ,\n",
       "       0.        , 0.33154743, 0.        , 0.        , 0.        ,\n",
       "       0.        , 0.        , 0.        , 0.        , 0.        ,\n",
       "       0.        , 0.        , 0.21076649, 0.18648303, 0.        ,\n",
       "       0.13599664, 0.07551997, 0.14001795, 0.10058466, 0.12371659,\n",
       "       0.        , 0.11616527, 0.01500529, 0.        , 0.02599006,\n",
       "       0.01689195, 0.01500529, 0.        , 0.        , 0.00851416,\n",
       "       0.11616527, 0.        , 0.11758892, 0.10058466, 0.        ,\n",
       "       0.01093078, 0.12371659, 0.11616527, 0.00877045, 0.02599006,\n",
       "       0.02189783, 0.14001795, 0.08055863, 0.01500529, 0.02389259,\n",
       "       0.02189783, 0.01093078, 0.        , 0.00877045, 0.        ,\n",
       "       0.00877045, 0.18393677, 0.01689195, 0.02599006, 0.00851416,\n",
       "       0.09524447, 0.00798061, 0.        , 0.01093078, 0.        ,\n",
       "       0.05408185, 0.        , 0.09524447, 0.11758892, 0.10058466,\n",
       "       0.11616527, 0.        , 0.03992923, 0.        , 0.00858682,\n",
       "       0.        , 0.01689195, 0.12371659, 0.        , 0.02389259,\n",
       "       0.        , 0.        , 0.00851416, 0.14001795, 0.13599664,\n",
       "       0.11758892, 0.        , 0.01500529, 0.03992923, 0.08055863,\n",
       "       0.00858682, 0.02189783, 0.00798061, 0.05408185, 0.00798061,\n",
       "       0.        , 0.05408185, 0.08055863, 0.02389259, 0.11616527,\n",
       "       0.00972202, 0.00952626, 0.        , 0.00670946, 0.        ,\n",
       "       0.00972202, 0.01620263, 0.10071561, 0.00652803, 0.00927355,\n",
       "       0.0044536 , 0.01303655, 0.00927355, 0.00749899, 0.01303655,\n",
       "       0.00927355, 0.0050936 , 0.        , 0.        , 0.        ,\n",
       "       0.        , 0.        , 0.        , 0.01597969, 0.        ,\n",
       "       0.        , 0.        , 0.        , 0.        , 0.        ,\n",
       "       0.        , 0.01994627, 0.        , 0.        , 0.        ,\n",
       "       0.02435207, 0.02221698, 0.00929862, 0.00455785, 0.00936571,\n",
       "       0.00544947, 0.00936571, 0.        , 0.        , 0.        ,\n",
       "       0.04629339, 0.17473629, 0.03002715, 0.03002715, 0.02711832,\n",
       "       0.03002715, 0.00519585, 0.03002715, 0.03002715, 0.01101096,\n",
       "       0.17813501, 0.03002715, 0.03002715, 0.01306876, 0.03002715,\n",
       "       0.03002715, 0.03002715, 0.06404956, 0.00457683, 0.0366473 ,\n",
       "       0.01306876, 0.03002715, 0.00659489, 0.03002715, 0.03002715,\n",
       "       0.03002715, 0.01128183, 0.00562468, 0.        , 0.        ,\n",
       "       0.22170098, 0.        , 0.        , 0.        , 0.        ,\n",
       "       0.        , 0.        , 0.        , 0.        , 0.        ,\n",
       "       0.09444663, 0.        , 0.00594236, 0.06658254, 0.00659489,\n",
       "       0.00562468, 0.01128183, 0.        , 0.00519585, 0.03222469,\n",
       "       0.00737026, 0.01907985, 0.04087674, 0.01396037, 0.03222469,\n",
       "       0.03222469, 0.03222469, 0.04087674, 0.02088396, 0.03222469,\n",
       "       0.03222469, 0.03222469, 0.01470831, 0.03222469, 0.01745296,\n",
       "       0.04087674, 0.04087674, 0.00877874, 0.04087674, 0.00499544,\n",
       "       0.        , 0.03222469, 0.03222469, 0.04087674, 0.03222469,\n",
       "       0.04087674, 0.01406285, 0.03222469, 0.02083996, 0.03222469,\n",
       "       0.03222469, 0.08286436, 0.01575264, 0.03222469, 0.01033502,\n",
       "       0.00711439, 0.03222469, 0.01069199, 0.03952148, 0.02271542,\n",
       "       0.0759538 , 0.02088396, 0.04087674, 0.00780568, 0.04087674,\n",
       "       0.03222469, 0.03222469, 0.03222469, 0.01687709, 0.0193988 ,\n",
       "       0.03222469, 0.03222469, 0.02088396, 0.04087674, 0.03222469,\n",
       "       0.02083996, 0.02143054, 0.0045657 , 0.01985942, 0.02271542,\n",
       "       0.        , 0.        , 0.00519585, 0.02611922, 0.        ,\n",
       "       0.        , 0.02711832, 0.03952148, 0.01907985, 0.02368265,\n",
       "       0.17813501, 0.00910019, 0.09887409, 0.02083996, 0.04178356,\n",
       "       0.0045657 , 0.01069199, 0.        , 0.00659489, 0.01846072,\n",
       "       0.00914261, 0.01128183, 0.        , 0.03233021, 0.        ,\n",
       "       0.        , 0.        , 0.        , 0.06658254, 0.03213747,\n",
       "       0.        , 0.        , 0.10976086, 0.01518389, 0.        ,\n",
       "       0.        , 0.        , 0.01470831, 0.01745296, 0.00499544,\n",
       "       0.05113677, 0.06404956, 0.04326688, 0.04636659, 0.05113677,\n",
       "       0.00687863, 0.        , 0.02966535, 0.09444663, 0.        ,\n",
       "       0.02083996, 0.        , 0.13214922, 0.02822299, 0.1018923 ,\n",
       "       0.00594236, 0.        , 0.00457683, 0.15175929, 0.00877874,\n",
       "       0.08286436, 0.04655213, 0.02966535, 0.        , 0.00877874,\n",
       "       0.01518389, 0.03233021, 0.        , 0.        , 0.        ,\n",
       "       0.008122  , 0.00737026, 0.00562468, 0.02088396, 0.02088396,\n",
       "       0.        , 0.02088396, 0.01687709, 0.01406285, 0.02143054,\n",
       "       0.0759538 , 0.0045657 , 0.00100742, 0.0085217 , 0.0193988 ,\n",
       "       0.01607114, 0.0193988 , 0.0193988 , 0.0193988 , 0.00780568,\n",
       "       0.02088396, 0.00711439, 0.02661705, 0.02661705, 0.01274381,\n",
       "       0.02661705, 0.02372887, 0.02372887, 0.01027908, 0.02661705,\n",
       "       0.01027908, 0.02372887, 0.02661705, 0.02372887, 0.02661705,\n",
       "       0.02661705, 0.02661705, 0.02661705, 0.15175929, 0.02661705,\n",
       "       0.01565328, 0.01565328, 0.01565328, 0.00396077, 0.01565328,\n",
       "       0.00594236, 0.01565328, 0.00687863, 0.02608624, 0.00910019,\n",
       "       0.01565328, 0.13214922, 0.18195481, 0.16047101, 0.16047101,\n",
       "       0.18195481, 0.04636659, 0.16047101, 0.16047101, 0.16047101,\n",
       "       0.16047101, 0.16047101, 0.16047101, 0.16047101, 0.16047101,\n",
       "       0.00821205, 0.00901227, 0.17291589, 0.01170953, 0.00682642,\n",
       "       0.00743384, 0.00564951, 0.01376575, 0.08218234, 0.02295866,\n",
       "       0.02295866, 0.00416599, 0.01353044, 0.07139311, 0.2010572 ,\n",
       "       0.0193099 , 0.06659689, 0.        , 0.11205715, 0.        ,\n",
       "       0.00747941, 0.01713061, 0.        , 0.01379646, 0.01055128,\n",
       "       0.13105975, 0.01565665, 0.0696732 , 0.11437056, 0.        ,\n",
       "       0.1439481 , 0.        , 0.01064255, 0.07433706, 0.00929028,\n",
       "       0.01543703, 0.        , 0.01535718, 0.05159323, 0.01001778,\n",
       "       0.        , 0.15875092, 0.08319429, 0.        , 0.04862278,\n",
       "       0.04323515, 0.06160409, 0.00899751, 0.1047717 , 0.05954911,\n",
       "       0.        , 0.0460094 , 0.01103962, 0.06682686, 0.06605777,\n",
       "       0.        , 0.        , 0.00747253, 0.07391747, 0.0446437 ,\n",
       "       0.01607844, 0.        , 0.        , 0.05228699, 0.0074607 ,\n",
       "       0.        , 0.        , 0.06280758, 0.07832083, 0.        ,\n",
       "       0.1070025 , 0.01063288, 0.01535483, 0.0137254 , 0.00707435,\n",
       "       0.        , 0.00945836, 0.        , 0.        , 0.        ,\n",
       "       0.01194779, 0.02887947, 0.01007014, 0.        , 0.14109767,\n",
       "       0.07258799, 0.12441476, 0.11013441, 0.08101297, 0.01572388,\n",
       "       0.30155345, 0.00810695, 0.        , 0.        , 0.14228521,\n",
       "       0.00947058, 0.06066238, 0.10239203, 0.02491792, 0.        ,\n",
       "       0.06657785, 0.06049272, 0.09024203, 0.01766774, 0.04634824,\n",
       "       0.01161803, 0.05981922, 0.        , 0.04765136, 0.14734854,\n",
       "       0.00710614, 0.        , 0.08206857, 0.01235404, 0.        ,\n",
       "       0.04061343, 0.01239058, 0.        , 0.04208924, 0.        ,\n",
       "       0.05110417, 0.09409206, 0.01516486, 0.        , 0.        ,\n",
       "       0.06718434, 0.        , 0.07836712, 0.01044906, 0.01522106,\n",
       "       0.15135462, 0.01539621, 0.01488265, 0.01923025, 0.        ,\n",
       "       0.00875702, 0.11407264, 0.15485057, 0.        , 0.06437794,\n",
       "       0.02862953, 0.00652238, 0.        , 0.        , 0.01516486,\n",
       "       0.07507846, 0.        , 0.06164097, 0.02283275, 0.01549873,\n",
       "       0.        , 0.05621899, 0.        , 0.02567621, 0.17133579,\n",
       "       0.06361486, 0.1265037 , 0.03964972, 0.00828155, 0.00555013,\n",
       "       0.01535718, 0.01535718, 0.05125227, 0.17905877, 0.01580624,\n",
       "       0.        , 0.17714802, 0.        , 0.0959803 , 0.        ,\n",
       "       0.17905877, 0.06769915, 0.00659624, 0.03409852, 0.        ])"
      ]
     },
     "execution_count": 77,
     "metadata": {},
     "output_type": "execute_result"
    }
   ],
   "source": [
    "cosine_sim[1]"
   ]
  },
  {
   "cell_type": "code",
   "execution_count": 78,
   "metadata": {},
   "outputs": [],
   "source": [
    "# Now that we have the matrix of similarity, we should \n",
    "# generate a reverse map of indices and tea names\n",
    "indices = pd.Series(df.index, index=df['Name']).drop_duplicates()"
   ]
  },
  {
   "cell_type": "code",
   "execution_count": 81,
   "metadata": {},
   "outputs": [
    {
     "data": {
      "text/plain": [
       "Name\n",
       "Organic Cold 911 Iconic Tin                   0\n",
       "Pomegrateful Iconic Tin                       1\n",
       "Mojito Matcha Iconic Tin                      2\n",
       "Pomegrateful   Limited Edition printed tin    3\n",
       "Vanilla Matcha Iconic Tin                     4\n",
       "dtype: int64"
      ]
     },
     "execution_count": 81,
     "metadata": {},
     "output_type": "execute_result"
    }
   ],
   "source": [
    "indices[:5]"
   ]
  },
  {
   "cell_type": "code",
   "execution_count": 82,
   "metadata": {},
   "outputs": [],
   "source": [
    "# At this point, we can begin building the recommendation function, \n",
    "# It will take in Name as input and returns similar teas as output\n",
    "def get_recommendations(Name, cosine_sim=cosine_sim):\n",
    "    # Get the index of teas that match the name\n",
    "    idx = indices[Name]\n",
    "\n",
    "    # Get the pairwsie similarity scores of all similar teas\n",
    "    sim_scores = list(enumerate(cosine_sim[idx]))\n",
    "\n",
    "    #  Based on the similarity scores, sort the tea names\n",
    "    sim_scores = sorted(sim_scores, key=lambda x: x[1], reverse=True)\n",
    "\n",
    "    # Find the scores of the 5 most similar teas\n",
    "    sim_scores = sim_scores[1:6]\n",
    "\n",
    "    # Get the tea indices\n",
    "    tea_indices = [i[0] for i in sim_scores]\n",
    "\n",
    "    # Bring it all together and return the top 5 most similar teas\n",
    "    return df['Name'].iloc[tea_indices]"
   ]
  },
  {
   "cell_type": "code",
   "execution_count": 95,
   "metadata": {},
   "outputs": [
    {
     "data": {
      "text/plain": [
       "363                    Herbal Mint\n",
       "364              English Breakfast\n",
       "365           Jasmine Dragon Pearl\n",
       "366                   Sweet Dreams\n",
       "367                  Flowering Tea\n",
       "368                  Jasmine White\n",
       "369           Memories of a Geisha\n",
       "370                   Arabian Chai\n",
       "371                   Smoky Oolong\n",
       "372    Ceremonial Matcha - Premium\n",
       "Name: Name, dtype: object"
      ]
     },
     "execution_count": 95,
     "metadata": {},
     "output_type": "execute_result"
    }
   ],
   "source": [
    "df['Name'][363:373]"
   ]
  },
  {
   "cell_type": "code",
   "execution_count": 88,
   "metadata": {},
   "outputs": [
    {
     "data": {
      "text/plain": [
       "392         Classic Black\n",
       "276          Blindfold Me\n",
       "447    Earl Grey Lavender\n",
       "581    Earl Grey Lavender\n",
       "318             Chamomile\n",
       "Name: Name, dtype: object"
      ]
     },
     "execution_count": 88,
     "metadata": {},
     "output_type": "execute_result"
    }
   ],
   "source": [
    "get_recommendations('Lavender')"
   ]
  }
 ],
 "metadata": {
  "interpreter": {
   "hash": "38740d3277777e2cd7c6c2cc9d8addf5118fdf3f82b1b39231fd12aeac8aee8b"
  },
  "kernelspec": {
   "display_name": "Python 3.9.6 64-bit",
   "language": "python",
   "name": "python3"
  },
  "language_info": {
   "codemirror_mode": {
    "name": "ipython",
    "version": 3
   },
   "file_extension": ".py",
   "mimetype": "text/x-python",
   "name": "python",
   "nbconvert_exporter": "python",
   "pygments_lexer": "ipython3",
   "version": "3.9.6"
  },
  "orig_nbformat": 4
 },
 "nbformat": 4,
 "nbformat_minor": 2
}
